{
 "cells": [
  {
   "cell_type": "markdown",
   "id": "82729cd2",
   "metadata": {},
   "source": [
    "# Import all the necessary libraries"
   ]
  },
  {
   "cell_type": "code",
   "execution_count": 1,
   "id": "1946e34a",
   "metadata": {},
   "outputs": [],
   "source": [
    "import matplotlib.pyplot as plt\n",
    "import pandas as pd\n",
    "import numpy as np\n"
   ]
  },
  {
   "cell_type": "markdown",
   "id": "53f20548",
   "metadata": {},
   "source": [
    " ## Descriptive analysis of the additives (columns named as “a” to “i”)"
   ]
  },
  {
   "cell_type": "code",
   "execution_count": 2,
   "id": "2dd95692",
   "metadata": {},
   "outputs": [
    {
     "name": "stdout",
     "output_type": "stream",
     "text": [
      "<class 'pandas.core.frame.DataFrame'>\n",
      "RangeIndex: 214 entries, 0 to 213\n",
      "Data columns (total 9 columns):\n",
      " #   Column  Non-Null Count  Dtype  \n",
      "---  ------  --------------  -----  \n",
      " 0   a       214 non-null    float64\n",
      " 1   b       214 non-null    float64\n",
      " 2   c       214 non-null    float64\n",
      " 3   d       214 non-null    float64\n",
      " 4   e       214 non-null    float64\n",
      " 5   f       214 non-null    float64\n",
      " 6   g       214 non-null    float64\n",
      " 7   h       214 non-null    float64\n",
      " 8   i       214 non-null    float64\n",
      "dtypes: float64(9)\n",
      "memory usage: 15.2 KB\n"
     ]
    }
   ],
   "source": [
    "df=pd.read_csv(\"Downloads\\\\PreScreen_r3_pw - 1234\\\\PreScreen_r3\\\\ingredient.csv\")\n",
    "df.info()"
   ]
  },
  {
   "cell_type": "code",
   "execution_count": 3,
   "id": "4f340f45",
   "metadata": {},
   "outputs": [
    {
     "data": {
      "text/html": [
       "<div>\n",
       "<style scoped>\n",
       "    .dataframe tbody tr th:only-of-type {\n",
       "        vertical-align: middle;\n",
       "    }\n",
       "\n",
       "    .dataframe tbody tr th {\n",
       "        vertical-align: top;\n",
       "    }\n",
       "\n",
       "    .dataframe thead th {\n",
       "        text-align: right;\n",
       "    }\n",
       "</style>\n",
       "<table border=\"1\" class=\"dataframe\">\n",
       "  <thead>\n",
       "    <tr style=\"text-align: right;\">\n",
       "      <th></th>\n",
       "      <th>a</th>\n",
       "      <th>b</th>\n",
       "      <th>c</th>\n",
       "      <th>d</th>\n",
       "      <th>e</th>\n",
       "      <th>f</th>\n",
       "      <th>g</th>\n",
       "      <th>h</th>\n",
       "      <th>i</th>\n",
       "    </tr>\n",
       "  </thead>\n",
       "  <tbody>\n",
       "    <tr>\n",
       "      <th>0</th>\n",
       "      <td>1.51735</td>\n",
       "      <td>13.02</td>\n",
       "      <td>3.54</td>\n",
       "      <td>1.69</td>\n",
       "      <td>72.73</td>\n",
       "      <td>0.54</td>\n",
       "      <td>8.44</td>\n",
       "      <td>0.00</td>\n",
       "      <td>0.07</td>\n",
       "    </tr>\n",
       "    <tr>\n",
       "      <th>1</th>\n",
       "      <td>1.53125</td>\n",
       "      <td>10.73</td>\n",
       "      <td>0.00</td>\n",
       "      <td>2.10</td>\n",
       "      <td>69.81</td>\n",
       "      <td>0.58</td>\n",
       "      <td>13.30</td>\n",
       "      <td>3.15</td>\n",
       "      <td>0.28</td>\n",
       "    </tr>\n",
       "    <tr>\n",
       "      <th>2</th>\n",
       "      <td>1.52300</td>\n",
       "      <td>13.31</td>\n",
       "      <td>3.58</td>\n",
       "      <td>0.82</td>\n",
       "      <td>71.99</td>\n",
       "      <td>0.12</td>\n",
       "      <td>10.17</td>\n",
       "      <td>0.00</td>\n",
       "      <td>0.03</td>\n",
       "    </tr>\n",
       "    <tr>\n",
       "      <th>3</th>\n",
       "      <td>1.51768</td>\n",
       "      <td>12.56</td>\n",
       "      <td>3.52</td>\n",
       "      <td>1.43</td>\n",
       "      <td>73.15</td>\n",
       "      <td>0.57</td>\n",
       "      <td>8.54</td>\n",
       "      <td>0.00</td>\n",
       "      <td>0.00</td>\n",
       "    </tr>\n",
       "    <tr>\n",
       "      <th>4</th>\n",
       "      <td>1.51813</td>\n",
       "      <td>13.43</td>\n",
       "      <td>3.98</td>\n",
       "      <td>1.18</td>\n",
       "      <td>72.49</td>\n",
       "      <td>0.58</td>\n",
       "      <td>8.15</td>\n",
       "      <td>0.00</td>\n",
       "      <td>0.00</td>\n",
       "    </tr>\n",
       "    <tr>\n",
       "      <th>...</th>\n",
       "      <td>...</td>\n",
       "      <td>...</td>\n",
       "      <td>...</td>\n",
       "      <td>...</td>\n",
       "      <td>...</td>\n",
       "      <td>...</td>\n",
       "      <td>...</td>\n",
       "      <td>...</td>\n",
       "      <td>...</td>\n",
       "    </tr>\n",
       "    <tr>\n",
       "      <th>209</th>\n",
       "      <td>1.52152</td>\n",
       "      <td>13.12</td>\n",
       "      <td>3.58</td>\n",
       "      <td>0.90</td>\n",
       "      <td>72.20</td>\n",
       "      <td>0.23</td>\n",
       "      <td>9.82</td>\n",
       "      <td>0.00</td>\n",
       "      <td>0.16</td>\n",
       "    </tr>\n",
       "    <tr>\n",
       "      <th>210</th>\n",
       "      <td>1.51848</td>\n",
       "      <td>13.64</td>\n",
       "      <td>3.87</td>\n",
       "      <td>1.27</td>\n",
       "      <td>71.96</td>\n",
       "      <td>0.54</td>\n",
       "      <td>8.32</td>\n",
       "      <td>0.00</td>\n",
       "      <td>0.32</td>\n",
       "    </tr>\n",
       "    <tr>\n",
       "      <th>211</th>\n",
       "      <td>1.51784</td>\n",
       "      <td>12.68</td>\n",
       "      <td>3.67</td>\n",
       "      <td>1.16</td>\n",
       "      <td>73.11</td>\n",
       "      <td>0.61</td>\n",
       "      <td>8.70</td>\n",
       "      <td>0.00</td>\n",
       "      <td>0.00</td>\n",
       "    </tr>\n",
       "    <tr>\n",
       "      <th>212</th>\n",
       "      <td>1.51841</td>\n",
       "      <td>12.93</td>\n",
       "      <td>3.74</td>\n",
       "      <td>1.11</td>\n",
       "      <td>72.28</td>\n",
       "      <td>0.64</td>\n",
       "      <td>8.96</td>\n",
       "      <td>0.00</td>\n",
       "      <td>0.22</td>\n",
       "    </tr>\n",
       "    <tr>\n",
       "      <th>213</th>\n",
       "      <td>1.51321</td>\n",
       "      <td>13.00</td>\n",
       "      <td>0.00</td>\n",
       "      <td>3.02</td>\n",
       "      <td>70.70</td>\n",
       "      <td>6.21</td>\n",
       "      <td>6.93</td>\n",
       "      <td>0.00</td>\n",
       "      <td>0.00</td>\n",
       "    </tr>\n",
       "  </tbody>\n",
       "</table>\n",
       "<p>214 rows × 9 columns</p>\n",
       "</div>"
      ],
      "text/plain": [
       "           a      b     c     d      e     f      g     h     i\n",
       "0    1.51735  13.02  3.54  1.69  72.73  0.54   8.44  0.00  0.07\n",
       "1    1.53125  10.73  0.00  2.10  69.81  0.58  13.30  3.15  0.28\n",
       "2    1.52300  13.31  3.58  0.82  71.99  0.12  10.17  0.00  0.03\n",
       "3    1.51768  12.56  3.52  1.43  73.15  0.57   8.54  0.00  0.00\n",
       "4    1.51813  13.43  3.98  1.18  72.49  0.58   8.15  0.00  0.00\n",
       "..       ...    ...   ...   ...    ...   ...    ...   ...   ...\n",
       "209  1.52152  13.12  3.58  0.90  72.20  0.23   9.82  0.00  0.16\n",
       "210  1.51848  13.64  3.87  1.27  71.96  0.54   8.32  0.00  0.32\n",
       "211  1.51784  12.68  3.67  1.16  73.11  0.61   8.70  0.00  0.00\n",
       "212  1.51841  12.93  3.74  1.11  72.28  0.64   8.96  0.00  0.22\n",
       "213  1.51321  13.00  0.00  3.02  70.70  6.21   6.93  0.00  0.00\n",
       "\n",
       "[214 rows x 9 columns]"
      ]
     },
     "execution_count": 3,
     "metadata": {},
     "output_type": "execute_result"
    }
   ],
   "source": [
    "df"
   ]
  },
  {
   "cell_type": "code",
   "execution_count": 33,
   "id": "c25b01db",
   "metadata": {},
   "outputs": [
    {
     "data": {
      "text/plain": [
       "(count    214.000000\n",
       " mean       1.518365\n",
       " std        0.003037\n",
       " min        1.511150\n",
       " 25%        1.516522\n",
       " 50%        1.517680\n",
       " 75%        1.519157\n",
       " max        1.533930\n",
       " Name: a, dtype: float64,\n",
       " count    214.000000\n",
       " mean      13.407850\n",
       " std        0.816604\n",
       " min       10.730000\n",
       " 25%       12.907500\n",
       " 50%       13.300000\n",
       " 75%       13.825000\n",
       " max       17.380000\n",
       " Name: b, dtype: float64,\n",
       " count    214.000000\n",
       " mean       2.684533\n",
       " std        1.442408\n",
       " min        0.000000\n",
       " 25%        2.115000\n",
       " 50%        3.480000\n",
       " 75%        3.600000\n",
       " max        4.490000\n",
       " Name: c, dtype: float64,\n",
       " count    214.000000\n",
       " mean       1.444907\n",
       " std        0.499270\n",
       " min        0.290000\n",
       " 25%        1.190000\n",
       " 50%        1.360000\n",
       " 75%        1.630000\n",
       " max        3.500000\n",
       " Name: d, dtype: float64,\n",
       " count    214.000000\n",
       " mean      72.650935\n",
       " std        0.774546\n",
       " min       69.810000\n",
       " 25%       72.280000\n",
       " 50%       72.790000\n",
       " 75%       73.087500\n",
       " max       75.410000\n",
       " Name: e, dtype: float64,\n",
       " count    214.000000\n",
       " mean       0.497056\n",
       " std        0.652192\n",
       " min        0.000000\n",
       " 25%        0.122500\n",
       " 50%        0.555000\n",
       " 75%        0.610000\n",
       " max        6.210000\n",
       " Name: f, dtype: float64,\n",
       " count    214.000000\n",
       " mean       8.956963\n",
       " std        1.423153\n",
       " min        5.430000\n",
       " 25%        8.240000\n",
       " 50%        8.600000\n",
       " 75%        9.172500\n",
       " max       16.190000\n",
       " Name: g, dtype: float64,\n",
       " count    214.000000\n",
       " mean       0.175047\n",
       " std        0.497219\n",
       " min        0.000000\n",
       " 25%        0.000000\n",
       " 50%        0.000000\n",
       " 75%        0.000000\n",
       " max        3.150000\n",
       " Name: h, dtype: float64,\n",
       " count    214.000000\n",
       " mean       0.057009\n",
       " std        0.097439\n",
       " min        0.000000\n",
       " 25%        0.000000\n",
       " 50%        0.000000\n",
       " 75%        0.100000\n",
       " max        0.510000\n",
       " Name: i, dtype: float64)"
      ]
     },
     "execution_count": 33,
     "metadata": {},
     "output_type": "execute_result"
    }
   ],
   "source": [
    "a_desc=df['a'].describe()\n",
    "b_desc=df['b'].describe()\n",
    "c_desc=df['c'].describe()\n",
    "d_desc=df['d'].describe()\n",
    "#e_desc=df['e'].descibe()  #output: Series' object has no attribute 'descibe'\n",
    "#e_series=pd.Series(['e'])\n",
    "e_desc=df['e'].describe()  #output: dtype: object\n",
    "\n",
    "#e_series=pd.to_numeric(['e'], errors='coerce')\n",
    "#e_desc=e_series.describe(include=numpy.object)\n",
    "\n",
    "f_desc=df['f'].describe()\n",
    "g_desc=df['g'].describe()\n",
    "h_desc=df['h'].describe()\n",
    "i_desc=df['i'].describe()\n",
    "\n",
    "a_desc, b_desc, c_desc, d_desc,e_desc, f_desc, g_desc, h_desc, i_desc"
   ]
  },
  {
   "cell_type": "markdown",
   "id": "62cc29b9",
   "metadata": {},
   "source": [
    "## Distribution Measures"
   ]
  },
  {
   "cell_type": "code",
   "execution_count": 19,
   "id": "6d4c045c",
   "metadata": {},
   "outputs": [
    {
     "name": "stdout",
     "output_type": "stream",
     "text": [
      "a_skew: 1.6254305060087642, b_skew: 0.45418145365774937, c_skew: -1.152559317580235, d_skew: 0.9072898090246341, e_skew= -0.7304472251318592, f_skew: 6.551648309604964, g_skew: 2.047053913118311, h_skew: 3.416424569302559, i_skew: 1.7543274704358307\n"
     ]
    }
   ],
   "source": [
    "a_skew=df['a'].skew()\n",
    "b_skew=df['b'].skew()\n",
    "c_skew=df['c'].skew()\n",
    "d_skew=df['d'].skew()\n",
    "e_skew=df['e'].skew()\n",
    "f_skew=df['f'].skew()\n",
    "g_skew=df['g'].skew()\n",
    "h_skew=df['h'].skew()\n",
    "i_skew=df['i'].skew()  #Skewness is a measure of symmetry, or more precisely, the lack of symmetry\n",
    "\n",
    "print(f\"a_skew: {a_skew}, b_skew: {b_skew}, c_skew: {c_skew}, d_skew: {d_skew}, e_skew= {e_skew}, f_skew: {f_skew}, g_skew: {g_skew}, h_skew: {h_skew}, i_skew: {i_skew}\")"
   ]
  },
  {
   "cell_type": "code",
   "execution_count": 34,
   "id": "756b9907",
   "metadata": {},
   "outputs": [
    {
     "name": "stdout",
     "output_type": "stream",
     "text": [
      "a_kurt: 4.931737386095595, b_kurt: 3.0522324094919226, c_kurt: -0.4103189628915689, d_kurt: 2.060568968946122, e_kurt= 2.9679029559660095, f_kurt: 54.68969852994255, g_kurt: 6.681977951411167, h_kurt: 12.541083582809158, i_kurt: 2.662015617441456\n"
     ]
    }
   ],
   "source": [
    "a_kurt=df['a'].kurtosis()\n",
    "b_kurt=df['b'].kurtosis()\n",
    "c_kurt=df['c'].kurtosis()\n",
    "d_kurt=df['d'].kurtosis()\n",
    "e_kurt=df['e'].kurtosis()\n",
    "f_kurt=df['f'].kurtosis()\n",
    "g_kurt=df['g'].kurtosis()\n",
    "h_kurt=df['h'].kurtosis()\n",
    "i_kurt=df['i'].kurtosis()  #Kurtosis is a measure of whether the data are heavy-tailed or light-tailed relative to a normal distribution.\n",
    "\n",
    "print(f\"a_kurt: {a_kurt}, b_kurt: {b_kurt}, c_kurt: {c_kurt}, d_kurt: {d_kurt}, e_kurt= {e_kurt}, f_kurt: {f_kurt}, g_kurt: {g_kurt}, h_kurt: {h_kurt}, i_kurt: {i_kurt}\")"
   ]
  },
  {
   "cell_type": "code",
   "execution_count": 71,
   "id": "3129e4c0",
   "metadata": {},
   "outputs": [
    {
     "data": {
      "text/plain": [
       "<matplotlib.legend.Legend at 0x1932456ee20>"
      ]
     },
     "execution_count": 71,
     "metadata": {},
     "output_type": "execute_result"
    },
    {
     "data": {
      "image/png": "[encoded data removed]",
      "text/plain": [
       "<Figure size 720x720 with 1 Axes>"
      ]
     },
     "metadata": {
      "needs_background": "light"
     },
     "output_type": "display_data"
    }
   ],
   "source": [
    "plt.figure(figsize=(10,10))\n",
    "plt.hist(df['a'], bins=100, alpha=0.5, label=\"a\")\n",
    "plt.hist(df['b'], bins=100, alpha=0.5, label=\"b\")\n",
    "plt.hist(df['c'], bins=100, alpha=0.5, label=\"c\")\n",
    "plt.hist(df['d'], bins=100, alpha=0.5, label=\"d\")\n",
    "plt.hist(df['e'], bins=100, alpha=0.5, label=\"e\")\n",
    "plt.hist(df['f'], bins=100, alpha=0.5, label=\"f\")\n",
    "plt.hist(df['g'], bins=100, alpha=0.5, label=\"g\")\n",
    "plt.hist(df['h'], bins=100, alpha=0.5, label=\"h\")\n",
    "plt.hist(df['i'], bins=100, alpha=0.5, label=\"i\")\n",
    "\n",
    "\n",
    "plt.ylim([0,25])\n",
    "plt.xlabel(\"Data\", size=10)\n",
    "plt.ylabel(\"Count\", size=10)\n",
    "plt.title(\"Multiple Histograms with ingredients\")\n",
    "plt.legend(loc='upper right')"
   ]
  },
  {
   "cell_type": "code",
   "execution_count": 42,
   "id": "579ff7ac",
   "metadata": {},
   "outputs": [],
   "source": [
    "def plotPerColumnDistribution(df, nGraphShown, nGraphPerRow):\n",
    "    nunique = df.nunique() #Count no of unique elements in col\n",
    "    df = df[[col for col in df if nunique[col] > 1 and nunique[col] < 50]] # For displaying purposes, pick columns that have between 1 and 50 unique values\n",
    "    nRow, nCol = df.shape\n",
    "    columnNames = list(df)  #Create column value based on numbers in element of list df\n",
    "    nGraphRow = (nCol + nGraphPerRow - 1) / nGraphPerRow\n",
    "    plt.figure(num = None, figsize = (6 * nGraphPerRow, 8 * nGraphRow), dpi = 80, facecolor = 'w', edgecolor = 'k')\n",
    "    for i in range(min(nCol, nGraphShown)):\n",
    "        plt.subplot(nGraphRow, nGraphPerRow, i + 1)\n",
    "        columnDf = df.iloc[:, i]\n",
    "        if (not np.issubdtype(type(columnDf.iloc[0]), np.number)):\n",
    "            valueCounts = columnDf.value_counts()\n",
    "            valueCounts.plot.bar()\n",
    "        else:\n",
    "            columnDf.hist()\n",
    "        plt.ylabel('counts')\n",
    "        plt.xticks(rotation = 90)\n",
    "        plt.title(f'{columnNames[i]} (column {i})')\n",
    "    plt.tight_layout(pad = 1.0, w_pad = 1.0, h_pad = 1.0)\n",
    "    plt.show()"
   ]
  },
  {
   "cell_type": "code",
   "execution_count": 74,
   "id": "0ebeb40a",
   "metadata": {},
   "outputs": [
    {
     "name": "stderr",
     "output_type": "stream",
     "text": [
      "<ipython-input-42-c4d51ae7f98d>:9: MatplotlibDeprecationWarning: Passing non-integers as three-element position specification is deprecated since 3.3 and will be removed two minor releases later.\n",
      "  plt.subplot(nGraphRow, nGraphPerRow, i + 1)\n"
     ]
    },
    {
     "data": {
      "image/png": "[encoded data removed]",
      "text/plain": [
       "<Figure size 4800x704 with 2 Axes>"
      ]
     },
     "metadata": {},
     "output_type": "display_data"
    }
   ],
   "source": [
    "plotPerColumnDistribution(df, 10, 10)"
   ]
  },
  {
   "cell_type": "code",
   "execution_count": 47,
   "id": "0858296f",
   "metadata": {},
   "outputs": [],
   "source": [
    "def plotCorrelationMatrix(df, graphWidth):\n",
    "    filename = \"ingredient plot\"\n",
    "    df = df.dropna('columns') # drop columns with NaN\n",
    "    df = df[[col for col in df if df[col].nunique() > 1]] # keep columns where there are more than 1 unique values\n",
    "    if df.shape[1] < 2:\n",
    "        print(f'No correlation plots shown: The number of non-NaN or constant columns ({df.shape[1]}) is less than 2')\n",
    "        return\n",
    "    corr = df.corr()\n",
    "    plt.figure(num=None, figsize=(graphWidth, graphWidth), dpi=80, facecolor='w', edgecolor='k')\n",
    "    corrMat = plt.matshow(corr, fignum = 1)\n",
    "    plt.xticks(range(len(corr.columns)), corr.columns, rotation=90)\n",
    "    plt.yticks(range(len(corr.columns)), corr.columns)\n",
    "    plt.gca().xaxis.tick_bottom()\n",
    "    plt.colorbar(corrMat)\n",
    "    plt.title(f'Correlation Matrix for {filename}', fontsize=15)\n",
    "    plt.show()"
   ]
  },
  {
   "cell_type": "code",
   "execution_count": 48,
   "id": "a63382a6",
   "metadata": {},
   "outputs": [
    {
     "data": {
      "image/png": "[encoded data removed]",
      "text/plain": [
       "<Figure size 640x640 with 2 Axes>"
      ]
     },
     "metadata": {},
     "output_type": "display_data"
    }
   ],
   "source": [
    "\n",
    "\n",
    "plotCorrelationMatrix(df, 8)\n",
    "\n"
   ]
  },
  {
   "cell_type": "markdown",
   "id": "440d422c",
   "metadata": {},
   "source": []
  }
 ],
 "metadata": {
  "kernelspec": {
   "display_name": "Python 3",
   "language": "python",
   "name": "python3"
  },
  "language_info": {
   "codemirror_mode": {
    "name": "ipython",
    "version": 3
   },
   "file_extension": ".py",
   "mimetype": "text/x-python",
   "name": "python",
   "nbconvert_exporter": "python",
   "pygments_lexer": "ipython3",
   "version": "3.8.8"
  }
 },
 "nbformat": 4,
 "nbformat_minor": 5
}
